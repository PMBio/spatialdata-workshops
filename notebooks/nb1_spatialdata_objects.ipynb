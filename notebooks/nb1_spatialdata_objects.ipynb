{
 "cells": [
  {
   "cell_type": "markdown",
   "id": "cdf24892-d649-41a4-8574-f245e63f23cd",
   "metadata": {},
   "source": [
    "# Introduction to `SpatialData` objects"
   ]
  },
  {
   "cell_type": "markdown",
   "id": "47f73050-a9f6-480a-963d-38370b056efe",
   "metadata": {},
   "source": [
    "Here is instead the slides for the introductory presentation [are available here](https://docs.google.com/presentation/d/10KXf5L3ruTG2iXIcEP8pajxOscRtvKmXMha1em_a7Pw/edit#slide=id.p)."
   ]
  },
  {
   "cell_type": "code",
   "execution_count": 4,
   "id": "a75a37a0-603f-4acf-abb8-6fddf2d4eb81",
   "metadata": {},
   "outputs": [
    {
     "data": {
      "text/html": [
       "\n",
       "                <script type=\"application/javascript\" id=\"jupyter_black\">\n",
       "                (function() {\n",
       "                    if (window.IPython === undefined) {\n",
       "                        return\n",
       "                    }\n",
       "                    var msg = \"WARNING: it looks like you might have loaded \" +\n",
       "                        \"jupyter_black in a non-lab notebook with \" +\n",
       "                        \"`is_lab=True`. Please double check, and if \" +\n",
       "                        \"loading with `%load_ext` please review the README!\"\n",
       "                    console.log(msg)\n",
       "                    alert(msg)\n",
       "                })()\n",
       "                </script>\n",
       "                "
      ],
      "text/plain": [
       "<IPython.core.display.HTML object>"
      ]
     },
     "metadata": {},
     "output_type": "display_data"
    }
   ],
   "source": [
    "%load_ext jupyter_black"
   ]
  },
  {
   "cell_type": "markdown",
   "id": "f8d37764-3f99-4f9a-879d-94a4a3218980",
   "metadata": {},
   "source": [
    "## Reading common raw data formats"
   ]
  },
  {
   "cell_type": "markdown",
   "id": "91608288-f87b-4e3b-9f44-3e5f3e612632",
   "metadata": {},
   "source": [
    "The `spatialdata-io` library allows for reading common raw data formats. \n",
    "Here we show an example where 3 very different technologies from 10x Genomics are read into a general data structure, given by the [`SpatialData` class](https://spatialdata.scverse.org/en/latest/generated/spatialdata.SpatialData.html#spatialdata.SpatialData)."
   ]
  },
  {
   "cell_type": "code",
   "execution_count": 6,
   "id": "0b250884-3db2-4ad0-9603-158109454f62",
   "metadata": {},
   "outputs": [],
   "source": [
    "from spatialdata_io import visium, visium_hd, xenium"
   ]
  },
  {
   "cell_type": "code",
   "execution_count": 9,
   "id": "12fc31bc-e222-4680-831e-2352563df27f",
   "metadata": {},
   "outputs": [
    {
     "name": "stdout",
     "output_type": "stream",
     "text": [
      "\u001b[34mINFO    \u001b[0m reading                                                                                                   \n",
      "         ..\u001b[35m/data/visium_2.1.0_2_io_subset/\u001b[0m\u001b[95mCytAssist_FFPE_Protein_Expression_Human_Glioblastoma_filtered_feature_bc_\u001b[0m\n",
      "         \u001b[95mmatrix.h5\u001b[0m                                                                                                 \n"
     ]
    },
    {
     "name": "stderr",
     "output_type": "stream",
     "text": [
      "/Users/macbook/embl/projects/basel/spatialdata-workshops/venv/lib/python3.12/site-packages/anndata/_core/anndata.py:1820: UserWarning: Variable names are not unique. To make them unique, call `.var_names_make_unique`.\n",
      "  utils.warn_names_duplicates(\"var\")\n",
      "/Users/macbook/embl/projects/basel/spatialdata-workshops/venv/lib/python3.12/site-packages/anndata/_core/anndata.py:1820: UserWarning: Variable names are not unique. To make them unique, call `.var_names_make_unique`.\n",
      "  utils.warn_names_duplicates(\"var\")\n",
      "/Users/macbook/embl/projects/basel/spatialdata-workshops/venv/lib/python3.12/site-packages/spatialdata/models/models.py:996: UserWarning: Converting `region_key: region` to categorical dtype.\n",
      "  return convert_region_column_to_categorical(adata)\n"
     ]
    },
    {
     "data": {
      "text/plain": [
       "SpatialData object\n",
       "├── Images\n",
       "│     ├── 'CytAssist_FFPE_Protein_Expression_Human_Glioblastoma_hires_image': DataArray[cyx] (3, 2000, 1744)\n",
       "│     └── 'CytAssist_FFPE_Protein_Expression_Human_Glioblastoma_lowres_image': DataArray[cyx] (3, 600, 523)\n",
       "├── Shapes\n",
       "│     └── 'CytAssist_FFPE_Protein_Expression_Human_Glioblastoma': GeoDataFrame shape: (5756, 2) (2D shapes)\n",
       "└── Tables\n",
       "      └── 'table': AnnData (5756, 18085)\n",
       "with coordinate systems:\n",
       "    ▸ 'downscaled_hires', with elements:\n",
       "        CytAssist_FFPE_Protein_Expression_Human_Glioblastoma_hires_image (Images), CytAssist_FFPE_Protein_Expression_Human_Glioblastoma (Shapes)\n",
       "    ▸ 'downscaled_lowres', with elements:\n",
       "        CytAssist_FFPE_Protein_Expression_Human_Glioblastoma_lowres_image (Images), CytAssist_FFPE_Protein_Expression_Human_Glioblastoma (Shapes)\n",
       "    ▸ 'global', with elements:\n",
       "        CytAssist_FFPE_Protein_Expression_Human_Glioblastoma (Shapes)"
      ]
     },
     "execution_count": 9,
     "metadata": {},
     "output_type": "execute_result"
    }
   ],
   "source": [
    "sdata_visium = visium(\"../data/visium_2.1.0_2_io_subset\")\n",
    "\n",
    "sdata_visium"
   ]
  },
  {
   "cell_type": "code",
   "execution_count": 11,
   "id": "e7051b59-54b8-4e36-9d4b-0ad9728f59de",
   "metadata": {},
   "outputs": [
    {
     "name": "stderr",
     "output_type": "stream",
     "text": [
      "/Users/macbook/embl/projects/basel/spatialdata-workshops/venv/lib/python3.12/site-packages/anndata/_core/anndata.py:1820: UserWarning: Variable names are not unique. To make them unique, call `.var_names_make_unique`.\n",
      "  utils.warn_names_duplicates(\"var\")\n"
     ]
    },
    {
     "data": {
      "text/plain": [
       "SpatialData object\n",
       "├── Images\n",
       "│     ├── 'Visium_HD_Mouse_Small_Intestine_hires_image': DataArray[cyx] (3, 5575, 6000)\n",
       "│     └── 'Visium_HD_Mouse_Small_Intestine_lowres_image': DataArray[cyx] (3, 558, 600)\n",
       "├── Shapes\n",
       "│     └── 'Visium_HD_Mouse_Small_Intestine_square_008um': GeoDataFrame shape: (351817, 1) (2D shapes)\n",
       "└── Tables\n",
       "      └── 'square_008um': AnnData (351817, 19059)\n",
       "with coordinate systems:\n",
       "    ▸ 'downscaled_hires', with elements:\n",
       "        Visium_HD_Mouse_Small_Intestine_hires_image (Images), Visium_HD_Mouse_Small_Intestine_square_008um (Shapes)\n",
       "    ▸ 'downscaled_lowres', with elements:\n",
       "        Visium_HD_Mouse_Small_Intestine_lowres_image (Images), Visium_HD_Mouse_Small_Intestine_square_008um (Shapes)\n",
       "    ▸ 'global', with elements:\n",
       "        Visium_HD_Mouse_Small_Intestine_square_008um (Shapes)"
      ]
     },
     "execution_count": 11,
     "metadata": {},
     "output_type": "execute_result"
    }
   ],
   "source": [
    "sdata_visium_hd = visium_hd(\"../data/visium_hd_3.0.0_io_subset\")\n",
    "\n",
    "sdata_visium_hd"
   ]
  },
  {
   "cell_type": "code",
   "execution_count": 12,
   "id": "e6acf60d-3f2d-48fe-acc2-24262e028d2f",
   "metadata": {},
   "outputs": [
    {
     "name": "stdout",
     "output_type": "stream",
     "text": [
      "\u001b[34mINFO    \u001b[0m reading ..\u001b[35m/data/xenium_2.0.0_io_subset/\u001b[0m\u001b[95mcell_feature_matrix.h5\u001b[0m                                             \n"
     ]
    },
    {
     "name": "stderr",
     "output_type": "stream",
     "text": [
      "/tmp/ipykernel_23409/372422143.py:1: DeprecationWarning: The default value of `cells_as_circles` will change to `False` in the next release. Please pass `True` explicitly to maintain the current behavior.\n",
      "  sdata_xenium = xenium('../data/xenium_2.0.0_io_subset')\n",
      "/opt/miniconda3/lib/python3.12/functools.py:946: UserWarning: The index of the dataframe is not monotonic increasing. It is recommended to sort the data to adjust the order of the index before calling .parse() to avoid possible problems due to unknown divisions\n",
      "  return method.__get__(obj, cls)(*args, **kwargs)\n",
      "ERROR:tifffile:<TiffTag.fromfile> raised TiffFileError('<tifffile.TiffTag 270 @124> invalid value offset 414390846')\n"
     ]
    },
    {
     "data": {
      "text/plain": [
       "SpatialData object\n",
       "├── Images\n",
       "│     ├── 'he_image': DataTree[cyx] (3, 5636, 1448), (3, 2818, 724), (3, 1409, 362), (3, 704, 181), (3, 352, 90)\n",
       "│     └── 'morphology_focus': DataTree[cyx] (1, 17098, 51187), (1, 8549, 25593), (1, 4274, 12796), (1, 2137, 6398), (1, 1068, 3199)\n",
       "├── Labels\n",
       "│     ├── 'cell_labels': DataTree[yx] (17098, 51187), (8549, 25593), (4274, 12796), (2137, 6398), (1068, 3199)\n",
       "│     └── 'nucleus_labels': DataTree[yx] (17098, 51187), (8549, 25593), (4274, 12796), (2137, 6398), (1068, 3199)\n",
       "├── Points\n",
       "│     └── 'transcripts': DataFrame with shape: (<Delayed>, 11) (3D points)\n",
       "├── Shapes\n",
       "│     ├── 'cell_boundaries': GeoDataFrame shape: (162254, 1) (2D shapes)\n",
       "│     ├── 'cell_circles': GeoDataFrame shape: (162254, 2) (2D shapes)\n",
       "│     └── 'nucleus_boundaries': GeoDataFrame shape: (156628, 1) (2D shapes)\n",
       "└── Tables\n",
       "      └── 'table': AnnData (162254, 377)\n",
       "with coordinate systems:\n",
       "    ▸ 'global', with elements:\n",
       "        he_image (Images), morphology_focus (Images), cell_labels (Labels), nucleus_labels (Labels), transcripts (Points), cell_boundaries (Shapes), cell_circles (Shapes), nucleus_boundaries (Shapes)"
      ]
     },
     "execution_count": 12,
     "metadata": {},
     "output_type": "execute_result"
    },
    {
     "name": "stderr",
     "output_type": "stream",
     "text": [
      "ERROR:tifffile:<TiffTag.fromfile> raised TiffFileError('<tifffile.TiffTag 270 @124> invalid value offset 414390846')\n",
      "ERROR:tifffile:<TiffTag.fromfile> raised TiffFileError('<tifffile.TiffTag 270 @124> invalid value offset 414390846')\n",
      "ERROR:tifffile:<TiffTag.fromfile> raised TiffFileError('<tifffile.TiffTag 270 @124> invalid value offset 414390846')\n",
      "ERROR:tifffile:<TiffTag.fromfile> raised TiffFileError('<tifffile.TiffTag 270 @124> invalid value offset 414390846')\n",
      "ERROR:tifffile:<TiffTag.fromfile> raised TiffFileError('<tifffile.TiffTag 270 @124> invalid value offset 414390846')\n"
     ]
    }
   ],
   "source": [
    "sdata_xenium = xenium(\"../data/xenium_2.0.0_io_subset\")\n",
    "\n",
    "sdata_xenium"
   ]
  },
  {
   "cell_type": "markdown",
   "id": "d7c9dde8-a9ef-4d00-a455-6c6ea8c66bc2",
   "metadata": {},
   "source": [
    "A `SpatialData` objects can contain:\n",
    "- 2D/3D multi-channel single-scale/multi-scale *images* (e.g. large H&E images)\n",
    "- 2D/3D *labels* (e.g. segmentation masks)\n",
    "- 2D/3D *points* (e.g. transcripts locations with gene id information)\n",
    "- 2D *shapes* (e.g. cell/nucleus boundaries, anatomical annotatoins)\n",
    "- *tables* (sparse/dense matrices/dataframes annotating the data).\n",
    "\n",
    "We will see more on this later."
   ]
  },
  {
   "cell_type": "markdown",
   "id": "b25e4bee-1f3f-4372-b7ff-3e761843a277",
   "metadata": {},
   "source": [
    "## Saving to the SpatialData Zarr format\n",
    "\n",
    "We introduce a storage format that extends the [NGFF (Next Generation File Format) specification](https://www.nature.com/articles/s41592-021-01326-w). The NGFF specification is implemented in the [OME-Zarr](https://link.springer.com/article/10.1007/s00418-023-02209-1) disk format; the SpatialData Zarr format is an extension of OME-Zarr and will eventually converge to it.\n",
    "\n",
    "Practically you can write and read the data as follows."
   ]
  },
  {
   "cell_type": "code",
   "execution_count": null,
   "id": "18b9dfc9-8869-4760-99e2-21ef5f76d429",
   "metadata": {},
   "outputs": [],
   "source": [
    "sdata_xenium.write(\"../data/xenium_2.0.0_io_subset.zarr\", overwrite=True)"
   ]
  },
  {
   "cell_type": "code",
   "execution_count": 16,
   "id": "78e079b5-7f78-4301-ac15-2e708ef28f23",
   "metadata": {},
   "outputs": [
    {
     "name": "stderr",
     "output_type": "stream",
     "text": [
      "/Users/macbook/embl/projects/basel/spatialdata-workshops/venv/lib/python3.12/site-packages/anndata/_core/aligned_df.py:67: ImplicitModificationWarning: Transforming to str index.\n",
      "  warnings.warn(\"Transforming to str index.\", ImplicitModificationWarning)\n"
     ]
    }
   ],
   "source": [
    "import spatialdata as sd\n",
    "\n",
    "sdata_xenium = sd.read_zarr(\"../data/xenium_2.0.0_io_subset.zarr\")"
   ]
  },
  {
   "cell_type": "markdown",
   "id": "15c8aaca-fc0e-4313-8ed1-9cf5c37bf8ab",
   "metadata": {},
   "source": [
    "A note on performance: saving to Zarr and re-reading the data is generally recommended when the data is large, since our storage format is optimized for dealing with large collections of images, geometries and annotations."
   ]
  },
  {
   "cell_type": "code",
   "execution_count": 23,
   "id": "02af202e-819d-445e-9589-ed3fe4b6c7a7",
   "metadata": {
    "scrolled": true
   },
   "outputs": [
    {
     "name": "stdout",
     "output_type": "stream",
     "text": [
      "SpatialData object, with associated Zarr store: /Users/macbook/embl/projects/basel/spatialdata-workshops/data/merfish.zarr\n",
      "├── Images\n",
      "│     └── 'rasterized': DataArray[cyx] (1, 522, 575)\n",
      "├── Points\n",
      "│     └── 'single_molecule': DataFrame with shape: (<Delayed>, 3) (2D points)\n",
      "├── Shapes\n",
      "│     ├── 'anatomical': GeoDataFrame shape: (6, 1) (2D shapes)\n",
      "│     └── 'cells': GeoDataFrame shape: (2389, 2) (2D shapes)\n",
      "└── Tables\n",
      "      └── 'table': AnnData (2389, 268)\n",
      "with coordinate systems:\n",
      "    ▸ 'global', with elements:\n",
      "        rasterized (Images), single_molecule (Points), anatomical (Shapes), cells (Shapes)\n",
      "\n",
      "SpatialData object, with associated Zarr store: /Users/macbook/embl/projects/basel/spatialdata-workshops/data/visium_hd_3.0.0_io_subset.zarr\n",
      "├── Images\n",
      "│     ├── 'Visium_HD_Mouse_Small_Intestine_hires_image': DataArray[cyx] (3, 5575, 6000)\n",
      "│     └── 'Visium_HD_Mouse_Small_Intestine_lowres_image': DataArray[cyx] (3, 558, 600)\n",
      "├── Shapes\n",
      "│     └── 'Visium_HD_Mouse_Small_Intestine_square_008um': GeoDataFrame shape: (351817, 1) (2D shapes)\n",
      "└── Tables\n",
      "      └── 'square_008um': AnnData (351817, 19059)\n",
      "with coordinate systems:\n",
      "    ▸ 'downscaled_hires', with elements:\n",
      "        Visium_HD_Mouse_Small_Intestine_hires_image (Images), Visium_HD_Mouse_Small_Intestine_square_008um (Shapes)\n",
      "    ▸ 'downscaled_lowres', with elements:\n",
      "        Visium_HD_Mouse_Small_Intestine_lowres_image (Images), Visium_HD_Mouse_Small_Intestine_square_008um (Shapes)\n",
      "    ▸ 'global', with elements:\n",
      "        Visium_HD_Mouse_Small_Intestine_square_008um (Shapes)\n"
     ]
    },
    {
     "name": "stderr",
     "output_type": "stream",
     "text": [
      "/Users/macbook/embl/projects/basel/spatialdata-workshops/venv/lib/python3.12/site-packages/anndata/_core/anndata.py:1820: UserWarning: Variable names are not unique. To make them unique, call `.var_names_make_unique`.\n",
      "  utils.warn_names_duplicates(\"var\")\n"
     ]
    }
   ],
   "source": [
    "# spatialdata-io is not needed in case your data is already in the SpatialData Zarr format\n",
    "sdata_merfish = sd.read_zarr(\"../data/merfish.zarr\")\n",
    "\n",
    "print(sdata_merfish, end=\"\\n\\n\")\n",
    "\n",
    "sdata_visium_hd = sd.read_zarr(\"../data/visium_hd_3.0.0_io_subset.zarr\")\n",
    "\n",
    "print(sdata_visium_hd)"
   ]
  },
  {
   "cell_type": "markdown",
   "id": "56b0cb6b-3663-4b3e-8aab-bfdc39234667",
   "metadata": {},
   "source": [
    "<div style=\"border: 1px solid #4CAF50; border-left-width: 15px; padding: 10px; background-color: #F0FFF0; color: black;\">\n",
    "    <strong>Tip:</strong>\n",
    "    <p>Given a SpatialData .zarr file, you can print its text representation from a terminal with:<br><code>python -m spatialdata peek data.zarr</code>.</p>\n",
    "</div>\n"
   ]
  },
  {
   "cell_type": "markdown",
   "id": "3c7fb6fe-6f28-4de6-bf66-d0f5f13f1e8c",
   "metadata": {},
   "source": [
    "## Visualizing the data with `napari-spatialdata`"
   ]
  },
  {
   "cell_type": "markdown",
   "id": "be82dbe3-5c97-426e-a65d-9c2ccde738c8",
   "metadata": {},
   "source": [
    "<div style=\"background-color: #FFE6E6; color: #FF0000;\">\n",
    "    <strong style=\"font-size: 24px;\">TODO</strong>\n",
    "</div>"
   ]
  },
  {
   "cell_type": "markdown",
   "id": "b7c2b80d-8a09-4e96-834c-4aeb430c1ac2",
   "metadata": {},
   "source": [
    "<div style=\"border: 1px solid #4CAF50; border-left-width: 15px; padding: 10px; background-color: #F0FFF0; color: black;\">\n",
    "    <strong>Tip:</strong>\n",
    "    <p>Given a SpatialData .zarr file, you can view it with napari from a terminal with:<br><code>python -m napari_spatialdata view data.zarr</code>.</p>\n",
    "</div>\n"
   ]
  },
  {
   "cell_type": "markdown",
   "id": "7e472ad6-34ef-4ada-a76e-819359a36cac",
   "metadata": {},
   "source": [
    "## The core slots of a `SpatialData` object"
   ]
  },
  {
   "cell_type": "markdown",
   "id": "1b096285-1d80-4041-885b-07e7befb4e5e",
   "metadata": {},
   "source": [
    "### Accessing elements"
   ]
  },
  {
   "cell_type": "markdown",
   "id": "3d94fd52-03b1-47c6-ba61-c8ee15e599b2",
   "metadata": {},
   "source": [
    "A `SpatialData` object is a container for images, labels, shapes, points and tables. Each of this object is denoted with the term *element*. We will use this term often."
   ]
  },
  {
   "cell_type": "markdown",
   "id": "87af613f-a602-40dd-9787-9ce735a1bb6b",
   "metadata": {},
   "source": [
    "To access an element:"
   ]
  },
  {
   "cell_type": "code",
   "execution_count": 24,
   "id": "0d04e5c3-f197-4cd0-9ece-2074192e856d",
   "metadata": {},
   "outputs": [
    {
     "data": {
      "text/html": [
       "<div><svg style=\"position: absolute; width: 0; height: 0; overflow: hidden\">\n",
       "<defs>\n",
       "<symbol id=\"icon-database\" viewBox=\"0 0 32 32\">\n",
       "<path d=\"M16 0c-8.837 0-16 2.239-16 5v4c0 2.761 7.163 5 16 5s16-2.239 16-5v-4c0-2.761-7.163-5-16-5z\"></path>\n",
       "<path d=\"M16 17c-8.837 0-16-2.239-16-5v6c0 2.761 7.163 5 16 5s16-2.239 16-5v-6c0 2.761-7.163 5-16 5z\"></path>\n",
       "<path d=\"M16 26c-8.837 0-16-2.239-16-5v6c0 2.761 7.163 5 16 5s16-2.239 16-5v-6c0 2.761-7.163 5-16 5z\"></path>\n",
       "</symbol>\n",
       "<symbol id=\"icon-file-text2\" viewBox=\"0 0 32 32\">\n",
       "<path d=\"M28.681 7.159c-0.694-0.947-1.662-2.053-2.724-3.116s-2.169-2.030-3.116-2.724c-1.612-1.182-2.393-1.319-2.841-1.319h-15.5c-1.378 0-2.5 1.121-2.5 2.5v27c0 1.378 1.122 2.5 2.5 2.5h23c1.378 0 2.5-1.122 2.5-2.5v-19.5c0-0.448-0.137-1.23-1.319-2.841zM24.543 5.457c0.959 0.959 1.712 1.825 2.268 2.543h-4.811v-4.811c0.718 0.556 1.584 1.309 2.543 2.268zM28 29.5c0 0.271-0.229 0.5-0.5 0.5h-23c-0.271 0-0.5-0.229-0.5-0.5v-27c0-0.271 0.229-0.5 0.5-0.5 0 0 15.499-0 15.5 0v7c0 0.552 0.448 1 1 1h7v19.5z\"></path>\n",
       "<path d=\"M23 26h-14c-0.552 0-1-0.448-1-1s0.448-1 1-1h14c0.552 0 1 0.448 1 1s-0.448 1-1 1z\"></path>\n",
       "<path d=\"M23 22h-14c-0.552 0-1-0.448-1-1s0.448-1 1-1h14c0.552 0 1 0.448 1 1s-0.448 1-1 1z\"></path>\n",
       "<path d=\"M23 18h-14c-0.552 0-1-0.448-1-1s0.448-1 1-1h14c0.552 0 1 0.448 1 1s-0.448 1-1 1z\"></path>\n",
       "</symbol>\n",
       "</defs>\n",
       "</svg>\n",
       "<style>/* CSS stylesheet for displaying xarray objects in jupyterlab.\n",
       " *\n",
       " */\n",
       "\n",
       ":root {\n",
       "  --xr-font-color0: var(--jp-content-font-color0, rgba(0, 0, 0, 1));\n",
       "  --xr-font-color2: var(--jp-content-font-color2, rgba(0, 0, 0, 0.54));\n",
       "  --xr-font-color3: var(--jp-content-font-color3, rgba(0, 0, 0, 0.38));\n",
       "  --xr-border-color: var(--jp-border-color2, #e0e0e0);\n",
       "  --xr-disabled-color: var(--jp-layout-color3, #bdbdbd);\n",
       "  --xr-background-color: var(--jp-layout-color0, white);\n",
       "  --xr-background-color-row-even: var(--jp-layout-color1, white);\n",
       "  --xr-background-color-row-odd: var(--jp-layout-color2, #eeeeee);\n",
       "}\n",
       "\n",
       "html[theme=dark],\n",
       "html[data-theme=dark],\n",
       "body[data-theme=dark],\n",
       "body.vscode-dark {\n",
       "  --xr-font-color0: rgba(255, 255, 255, 1);\n",
       "  --xr-font-color2: rgba(255, 255, 255, 0.54);\n",
       "  --xr-font-color3: rgba(255, 255, 255, 0.38);\n",
       "  --xr-border-color: #1F1F1F;\n",
       "  --xr-disabled-color: #515151;\n",
       "  --xr-background-color: #111111;\n",
       "  --xr-background-color-row-even: #111111;\n",
       "  --xr-background-color-row-odd: #313131;\n",
       "}\n",
       "\n",
       ".xr-wrap {\n",
       "  display: block !important;\n",
       "  min-width: 300px;\n",
       "  max-width: 700px;\n",
       "}\n",
       "\n",
       ".xr-text-repr-fallback {\n",
       "  /* fallback to plain text repr when CSS is not injected (untrusted notebook) */\n",
       "  display: none;\n",
       "}\n",
       "\n",
       ".xr-header {\n",
       "  padding-top: 6px;\n",
       "  padding-bottom: 6px;\n",
       "  margin-bottom: 4px;\n",
       "  border-bottom: solid 1px var(--xr-border-color);\n",
       "}\n",
       "\n",
       ".xr-header > div,\n",
       ".xr-header > ul {\n",
       "  display: inline;\n",
       "  margin-top: 0;\n",
       "  margin-bottom: 0;\n",
       "}\n",
       "\n",
       ".xr-obj-type,\n",
       ".xr-array-name {\n",
       "  margin-left: 2px;\n",
       "  margin-right: 10px;\n",
       "}\n",
       "\n",
       ".xr-obj-type {\n",
       "  color: var(--xr-font-color2);\n",
       "}\n",
       "\n",
       ".xr-sections {\n",
       "  padding-left: 0 !important;\n",
       "  display: grid;\n",
       "  grid-template-columns: 150px auto auto 1fr 20px 20px;\n",
       "}\n",
       "\n",
       ".xr-section-item {\n",
       "  display: contents;\n",
       "}\n",
       "\n",
       ".xr-section-item input {\n",
       "  display: none;\n",
       "}\n",
       "\n",
       ".xr-section-item input + label {\n",
       "  color: var(--xr-disabled-color);\n",
       "}\n",
       "\n",
       ".xr-section-item input:enabled + label {\n",
       "  cursor: pointer;\n",
       "  color: var(--xr-font-color2);\n",
       "}\n",
       "\n",
       ".xr-section-item input:enabled + label:hover {\n",
       "  color: var(--xr-font-color0);\n",
       "}\n",
       "\n",
       ".xr-section-summary {\n",
       "  grid-column: 1;\n",
       "  color: var(--xr-font-color2);\n",
       "  font-weight: 500;\n",
       "}\n",
       "\n",
       ".xr-section-summary > span {\n",
       "  display: inline-block;\n",
       "  padding-left: 0.5em;\n",
       "}\n",
       "\n",
       ".xr-section-summary-in:disabled + label {\n",
       "  color: var(--xr-font-color2);\n",
       "}\n",
       "\n",
       ".xr-section-summary-in + label:before {\n",
       "  display: inline-block;\n",
       "  content: '►';\n",
       "  font-size: 11px;\n",
       "  width: 15px;\n",
       "  text-align: center;\n",
       "}\n",
       "\n",
       ".xr-section-summary-in:disabled + label:before {\n",
       "  color: var(--xr-disabled-color);\n",
       "}\n",
       "\n",
       ".xr-section-summary-in:checked + label:before {\n",
       "  content: '▼';\n",
       "}\n",
       "\n",
       ".xr-section-summary-in:checked + label > span {\n",
       "  display: none;\n",
       "}\n",
       "\n",
       ".xr-section-summary,\n",
       ".xr-section-inline-details {\n",
       "  padding-top: 4px;\n",
       "  padding-bottom: 4px;\n",
       "}\n",
       "\n",
       ".xr-section-inline-details {\n",
       "  grid-column: 2 / -1;\n",
       "}\n",
       "\n",
       ".xr-section-details {\n",
       "  display: none;\n",
       "  grid-column: 1 / -1;\n",
       "  margin-bottom: 5px;\n",
       "}\n",
       "\n",
       ".xr-section-summary-in:checked ~ .xr-section-details {\n",
       "  display: contents;\n",
       "}\n",
       "\n",
       ".xr-array-wrap {\n",
       "  grid-column: 1 / -1;\n",
       "  display: grid;\n",
       "  grid-template-columns: 20px auto;\n",
       "}\n",
       "\n",
       ".xr-array-wrap > label {\n",
       "  grid-column: 1;\n",
       "  vertical-align: top;\n",
       "}\n",
       "\n",
       ".xr-preview {\n",
       "  color: var(--xr-font-color3);\n",
       "}\n",
       "\n",
       ".xr-array-preview,\n",
       ".xr-array-data {\n",
       "  padding: 0 5px !important;\n",
       "  grid-column: 2;\n",
       "}\n",
       "\n",
       ".xr-array-data,\n",
       ".xr-array-in:checked ~ .xr-array-preview {\n",
       "  display: none;\n",
       "}\n",
       "\n",
       ".xr-array-in:checked ~ .xr-array-data,\n",
       ".xr-array-preview {\n",
       "  display: inline-block;\n",
       "}\n",
       "\n",
       ".xr-dim-list {\n",
       "  display: inline-block !important;\n",
       "  list-style: none;\n",
       "  padding: 0 !important;\n",
       "  margin: 0;\n",
       "}\n",
       "\n",
       ".xr-dim-list li {\n",
       "  display: inline-block;\n",
       "  padding: 0;\n",
       "  margin: 0;\n",
       "}\n",
       "\n",
       ".xr-dim-list:before {\n",
       "  content: '(';\n",
       "}\n",
       "\n",
       ".xr-dim-list:after {\n",
       "  content: ')';\n",
       "}\n",
       "\n",
       ".xr-dim-list li:not(:last-child):after {\n",
       "  content: ',';\n",
       "  padding-right: 5px;\n",
       "}\n",
       "\n",
       ".xr-has-index {\n",
       "  font-weight: bold;\n",
       "}\n",
       "\n",
       ".xr-var-list,\n",
       ".xr-var-item {\n",
       "  display: contents;\n",
       "}\n",
       "\n",
       ".xr-var-item > div,\n",
       ".xr-var-item label,\n",
       ".xr-var-item > .xr-var-name span {\n",
       "  background-color: var(--xr-background-color-row-even);\n",
       "  margin-bottom: 0;\n",
       "}\n",
       "\n",
       ".xr-var-item > .xr-var-name:hover span {\n",
       "  padding-right: 5px;\n",
       "}\n",
       "\n",
       ".xr-var-list > li:nth-child(odd) > div,\n",
       ".xr-var-list > li:nth-child(odd) > label,\n",
       ".xr-var-list > li:nth-child(odd) > .xr-var-name span {\n",
       "  background-color: var(--xr-background-color-row-odd);\n",
       "}\n",
       "\n",
       ".xr-var-name {\n",
       "  grid-column: 1;\n",
       "}\n",
       "\n",
       ".xr-var-dims {\n",
       "  grid-column: 2;\n",
       "}\n",
       "\n",
       ".xr-var-dtype {\n",
       "  grid-column: 3;\n",
       "  text-align: right;\n",
       "  color: var(--xr-font-color2);\n",
       "}\n",
       "\n",
       ".xr-var-preview {\n",
       "  grid-column: 4;\n",
       "}\n",
       "\n",
       ".xr-index-preview {\n",
       "  grid-column: 2 / 5;\n",
       "  color: var(--xr-font-color2);\n",
       "}\n",
       "\n",
       ".xr-var-name,\n",
       ".xr-var-dims,\n",
       ".xr-var-dtype,\n",
       ".xr-preview,\n",
       ".xr-attrs dt {\n",
       "  white-space: nowrap;\n",
       "  overflow: hidden;\n",
       "  text-overflow: ellipsis;\n",
       "  padding-right: 10px;\n",
       "}\n",
       "\n",
       ".xr-var-name:hover,\n",
       ".xr-var-dims:hover,\n",
       ".xr-var-dtype:hover,\n",
       ".xr-attrs dt:hover {\n",
       "  overflow: visible;\n",
       "  width: auto;\n",
       "  z-index: 1;\n",
       "}\n",
       "\n",
       ".xr-var-attrs,\n",
       ".xr-var-data,\n",
       ".xr-index-data {\n",
       "  display: none;\n",
       "  background-color: var(--xr-background-color) !important;\n",
       "  padding-bottom: 5px !important;\n",
       "}\n",
       "\n",
       ".xr-var-attrs-in:checked ~ .xr-var-attrs,\n",
       ".xr-var-data-in:checked ~ .xr-var-data,\n",
       ".xr-index-data-in:checked ~ .xr-index-data {\n",
       "  display: block;\n",
       "}\n",
       "\n",
       ".xr-var-data > table {\n",
       "  float: right;\n",
       "}\n",
       "\n",
       ".xr-var-name span,\n",
       ".xr-var-data,\n",
       ".xr-index-name div,\n",
       ".xr-index-data,\n",
       ".xr-attrs {\n",
       "  padding-left: 25px !important;\n",
       "}\n",
       "\n",
       ".xr-attrs,\n",
       ".xr-var-attrs,\n",
       ".xr-var-data,\n",
       ".xr-index-data {\n",
       "  grid-column: 1 / -1;\n",
       "}\n",
       "\n",
       "dl.xr-attrs {\n",
       "  padding: 0;\n",
       "  margin: 0;\n",
       "  display: grid;\n",
       "  grid-template-columns: 125px auto;\n",
       "}\n",
       "\n",
       ".xr-attrs dt,\n",
       ".xr-attrs dd {\n",
       "  padding: 0;\n",
       "  margin: 0;\n",
       "  float: left;\n",
       "  padding-right: 10px;\n",
       "  width: auto;\n",
       "}\n",
       "\n",
       ".xr-attrs dt {\n",
       "  font-weight: normal;\n",
       "  grid-column: 1;\n",
       "}\n",
       "\n",
       ".xr-attrs dt:hover span {\n",
       "  display: inline-block;\n",
       "  background: var(--xr-background-color);\n",
       "  padding-right: 10px;\n",
       "}\n",
       "\n",
       ".xr-attrs dd {\n",
       "  grid-column: 2;\n",
       "  white-space: pre-wrap;\n",
       "  word-break: break-all;\n",
       "}\n",
       "\n",
       ".xr-icon-database,\n",
       ".xr-icon-file-text2,\n",
       ".xr-no-icon {\n",
       "  display: inline-block;\n",
       "  vertical-align: middle;\n",
       "  width: 1em;\n",
       "  height: 1.5em !important;\n",
       "  stroke-width: 0;\n",
       "  stroke: currentColor;\n",
       "  fill: currentColor;\n",
       "}\n",
       "</style><pre class='xr-text-repr-fallback'>&lt;xarray.DataArray &#x27;image&#x27; (c: 1, y: 522, x: 575)&gt; Size: 300kB\n",
       "dask.array&lt;from-zarr, shape=(1, 522, 575), dtype=uint8, chunksize=(1, 522, 575), chunktype=numpy.ndarray&gt;\n",
       "Coordinates:\n",
       "  * c        (c) int64 8B 0\n",
       "  * y        (y) float64 4kB 0.5 1.5 2.5 3.5 4.5 ... 518.5 519.5 520.5 521.5\n",
       "  * x        (x) float64 5kB 0.5 1.5 2.5 3.5 4.5 ... 571.5 572.5 573.5 574.5\n",
       "Attributes:\n",
       "    transform:  {&#x27;global&#x27;: Sequence \\n    Scale (c, y, x)\\n        [1.       ...</pre><div class='xr-wrap' style='display:none'><div class='xr-header'><div class='xr-obj-type'>xarray.DataArray</div><div class='xr-array-name'>'image'</div><ul class='xr-dim-list'><li><span class='xr-has-index'>c</span>: 1</li><li><span class='xr-has-index'>y</span>: 522</li><li><span class='xr-has-index'>x</span>: 575</li></ul></div><ul class='xr-sections'><li class='xr-section-item'><div class='xr-array-wrap'><input id='section-84fd9bd3-c159-48dc-ba2e-67abb6152049' class='xr-array-in' type='checkbox' checked><label for='section-84fd9bd3-c159-48dc-ba2e-67abb6152049' title='Show/hide data repr'><svg class='icon xr-icon-database'><use xlink:href='#icon-database'></use></svg></label><div class='xr-array-preview xr-preview'><span>dask.array&lt;chunksize=(1, 522, 575), meta=np.ndarray&gt;</span></div><div class='xr-array-data'><table>\n",
       "    <tr>\n",
       "        <td>\n",
       "            <table style=\"border-collapse: collapse;\">\n",
       "                <thead>\n",
       "                    <tr>\n",
       "                        <td> </td>\n",
       "                        <th> Array </th>\n",
       "                        <th> Chunk </th>\n",
       "                    </tr>\n",
       "                </thead>\n",
       "                <tbody>\n",
       "                    \n",
       "                    <tr>\n",
       "                        <th> Bytes </th>\n",
       "                        <td> 293.12 kiB </td>\n",
       "                        <td> 293.12 kiB </td>\n",
       "                    </tr>\n",
       "                    \n",
       "                    <tr>\n",
       "                        <th> Shape </th>\n",
       "                        <td> (1, 522, 575) </td>\n",
       "                        <td> (1, 522, 575) </td>\n",
       "                    </tr>\n",
       "                    <tr>\n",
       "                        <th> Dask graph </th>\n",
       "                        <td colspan=\"2\"> 1 chunks in 2 graph layers </td>\n",
       "                    </tr>\n",
       "                    <tr>\n",
       "                        <th> Data type </th>\n",
       "                        <td colspan=\"2\"> uint8 numpy.ndarray </td>\n",
       "                    </tr>\n",
       "                </tbody>\n",
       "            </table>\n",
       "        </td>\n",
       "        <td>\n",
       "        <svg width=\"194\" height=\"173\" style=\"stroke:rgb(0,0,0);stroke-width:1\" >\n",
       "\n",
       "  <!-- Horizontal lines -->\n",
       "  <line x1=\"10\" y1=\"0\" x2=\"24\" y2=\"14\" style=\"stroke-width:2\" />\n",
       "  <line x1=\"10\" y1=\"108\" x2=\"24\" y2=\"123\" style=\"stroke-width:2\" />\n",
       "\n",
       "  <!-- Vertical lines -->\n",
       "  <line x1=\"10\" y1=\"0\" x2=\"10\" y2=\"108\" style=\"stroke-width:2\" />\n",
       "  <line x1=\"24\" y1=\"14\" x2=\"24\" y2=\"123\" style=\"stroke-width:2\" />\n",
       "\n",
       "  <!-- Colored Rectangle -->\n",
       "  <polygon points=\"10.0,0.0 24.9485979497544,14.948597949754403 24.9485979497544,123.88772838453701 10.0,108.93913043478261\" style=\"fill:#ECB172A0;stroke-width:0\"/>\n",
       "\n",
       "  <!-- Horizontal lines -->\n",
       "  <line x1=\"10\" y1=\"0\" x2=\"130\" y2=\"0\" style=\"stroke-width:2\" />\n",
       "  <line x1=\"24\" y1=\"14\" x2=\"144\" y2=\"14\" style=\"stroke-width:2\" />\n",
       "\n",
       "  <!-- Vertical lines -->\n",
       "  <line x1=\"10\" y1=\"0\" x2=\"24\" y2=\"14\" style=\"stroke-width:2\" />\n",
       "  <line x1=\"130\" y1=\"0\" x2=\"144\" y2=\"14\" style=\"stroke-width:2\" />\n",
       "\n",
       "  <!-- Colored Rectangle -->\n",
       "  <polygon points=\"10.0,0.0 130.0,0.0 144.9485979497544,14.948597949754403 24.9485979497544,14.948597949754403\" style=\"fill:#ECB172A0;stroke-width:0\"/>\n",
       "\n",
       "  <!-- Horizontal lines -->\n",
       "  <line x1=\"24\" y1=\"14\" x2=\"144\" y2=\"14\" style=\"stroke-width:2\" />\n",
       "  <line x1=\"24\" y1=\"123\" x2=\"144\" y2=\"123\" style=\"stroke-width:2\" />\n",
       "\n",
       "  <!-- Vertical lines -->\n",
       "  <line x1=\"24\" y1=\"14\" x2=\"24\" y2=\"123\" style=\"stroke-width:2\" />\n",
       "  <line x1=\"144\" y1=\"14\" x2=\"144\" y2=\"123\" style=\"stroke-width:2\" />\n",
       "\n",
       "  <!-- Colored Rectangle -->\n",
       "  <polygon points=\"24.9485979497544,14.948597949754403 144.9485979497544,14.948597949754403 144.9485979497544,123.88772838453701 24.9485979497544,123.88772838453701\" style=\"fill:#ECB172A0;stroke-width:0\"/>\n",
       "\n",
       "  <!-- Text -->\n",
       "  <text x=\"84.948598\" y=\"143.887728\" font-size=\"1.0rem\" font-weight=\"100\" text-anchor=\"middle\" >575</text>\n",
       "  <text x=\"164.948598\" y=\"69.418163\" font-size=\"1.0rem\" font-weight=\"100\" text-anchor=\"middle\" transform=\"rotate(-90,164.948598,69.418163)\">522</text>\n",
       "  <text x=\"7.474299\" y=\"136.413429\" font-size=\"1.0rem\" font-weight=\"100\" text-anchor=\"middle\" transform=\"rotate(45,7.474299,136.413429)\">1</text>\n",
       "</svg>\n",
       "        </td>\n",
       "    </tr>\n",
       "</table></div></div></li><li class='xr-section-item'><input id='section-fce836fb-196d-4ce0-aa05-b085e055ff37' class='xr-section-summary-in' type='checkbox'  checked><label for='section-fce836fb-196d-4ce0-aa05-b085e055ff37' class='xr-section-summary' >Coordinates: <span>(3)</span></label><div class='xr-section-inline-details'></div><div class='xr-section-details'><ul class='xr-var-list'><li class='xr-var-item'><div class='xr-var-name'><span class='xr-has-index'>c</span></div><div class='xr-var-dims'>(c)</div><div class='xr-var-dtype'>int64</div><div class='xr-var-preview xr-preview'>0</div><input id='attrs-7bf3eaaf-bc8a-4155-9e75-3b6f3d85c257' class='xr-var-attrs-in' type='checkbox' disabled><label for='attrs-7bf3eaaf-bc8a-4155-9e75-3b6f3d85c257' title='Show/Hide attributes'><svg class='icon xr-icon-file-text2'><use xlink:href='#icon-file-text2'></use></svg></label><input id='data-a6151a7f-6411-4d27-87d0-e1a5572928c7' class='xr-var-data-in' type='checkbox'><label for='data-a6151a7f-6411-4d27-87d0-e1a5572928c7' title='Show/Hide data repr'><svg class='icon xr-icon-database'><use xlink:href='#icon-database'></use></svg></label><div class='xr-var-attrs'><dl class='xr-attrs'></dl></div><div class='xr-var-data'><pre>array([0])</pre></div></li><li class='xr-var-item'><div class='xr-var-name'><span class='xr-has-index'>y</span></div><div class='xr-var-dims'>(y)</div><div class='xr-var-dtype'>float64</div><div class='xr-var-preview xr-preview'>0.5 1.5 2.5 ... 519.5 520.5 521.5</div><input id='attrs-43852a7c-9781-403a-88ef-31d8923528cd' class='xr-var-attrs-in' type='checkbox' disabled><label for='attrs-43852a7c-9781-403a-88ef-31d8923528cd' title='Show/Hide attributes'><svg class='icon xr-icon-file-text2'><use xlink:href='#icon-file-text2'></use></svg></label><input id='data-2803c40f-fee3-4a16-a3fa-f75e0abcb6e2' class='xr-var-data-in' type='checkbox'><label for='data-2803c40f-fee3-4a16-a3fa-f75e0abcb6e2' title='Show/Hide data repr'><svg class='icon xr-icon-database'><use xlink:href='#icon-database'></use></svg></label><div class='xr-var-attrs'><dl class='xr-attrs'></dl></div><div class='xr-var-data'><pre>array([5.000e-01, 1.500e+00, 2.500e+00, ..., 5.195e+02, 5.205e+02, 5.215e+02])</pre></div></li><li class='xr-var-item'><div class='xr-var-name'><span class='xr-has-index'>x</span></div><div class='xr-var-dims'>(x)</div><div class='xr-var-dtype'>float64</div><div class='xr-var-preview xr-preview'>0.5 1.5 2.5 ... 572.5 573.5 574.5</div><input id='attrs-39c99dd9-aa77-4e9a-bd66-d20cd970e7fb' class='xr-var-attrs-in' type='checkbox' disabled><label for='attrs-39c99dd9-aa77-4e9a-bd66-d20cd970e7fb' title='Show/Hide attributes'><svg class='icon xr-icon-file-text2'><use xlink:href='#icon-file-text2'></use></svg></label><input id='data-ab4420c7-7602-4bd7-b87d-903d67420f1b' class='xr-var-data-in' type='checkbox'><label for='data-ab4420c7-7602-4bd7-b87d-903d67420f1b' title='Show/Hide data repr'><svg class='icon xr-icon-database'><use xlink:href='#icon-database'></use></svg></label><div class='xr-var-attrs'><dl class='xr-attrs'></dl></div><div class='xr-var-data'><pre>array([5.000e-01, 1.500e+00, 2.500e+00, ..., 5.725e+02, 5.735e+02, 5.745e+02])</pre></div></li></ul></div></li><li class='xr-section-item'><input id='section-5bcd6428-65ec-469b-85b5-fb3f79c8a897' class='xr-section-summary-in' type='checkbox'  ><label for='section-5bcd6428-65ec-469b-85b5-fb3f79c8a897' class='xr-section-summary' >Indexes: <span>(3)</span></label><div class='xr-section-inline-details'></div><div class='xr-section-details'><ul class='xr-var-list'><li class='xr-var-item'><div class='xr-index-name'><div>c</div></div><div class='xr-index-preview'>PandasIndex</div><div></div><input id='index-c26627a4-7104-4109-afd1-f2b5bc39a597' class='xr-index-data-in' type='checkbox'/><label for='index-c26627a4-7104-4109-afd1-f2b5bc39a597' title='Show/Hide index repr'><svg class='icon xr-icon-database'><use xlink:href='#icon-database'></use></svg></label><div class='xr-index-data'><pre>PandasIndex(Index([0], dtype=&#x27;int64&#x27;, name=&#x27;c&#x27;))</pre></div></li><li class='xr-var-item'><div class='xr-index-name'><div>y</div></div><div class='xr-index-preview'>PandasIndex</div><div></div><input id='index-1f0ef30c-05f5-4b9e-a913-3f69c8bc18d5' class='xr-index-data-in' type='checkbox'/><label for='index-1f0ef30c-05f5-4b9e-a913-3f69c8bc18d5' title='Show/Hide index repr'><svg class='icon xr-icon-database'><use xlink:href='#icon-database'></use></svg></label><div class='xr-index-data'><pre>PandasIndex(Index([  0.5,   1.5,   2.5,   3.5,   4.5,   5.5,   6.5,   7.5,   8.5,   9.5,\n",
       "       ...\n",
       "       512.5, 513.5, 514.5, 515.5, 516.5, 517.5, 518.5, 519.5, 520.5, 521.5],\n",
       "      dtype=&#x27;float64&#x27;, name=&#x27;y&#x27;, length=522))</pre></div></li><li class='xr-var-item'><div class='xr-index-name'><div>x</div></div><div class='xr-index-preview'>PandasIndex</div><div></div><input id='index-8969e112-3c92-4cb2-9bfe-bd866f5c971c' class='xr-index-data-in' type='checkbox'/><label for='index-8969e112-3c92-4cb2-9bfe-bd866f5c971c' title='Show/Hide index repr'><svg class='icon xr-icon-database'><use xlink:href='#icon-database'></use></svg></label><div class='xr-index-data'><pre>PandasIndex(Index([  0.5,   1.5,   2.5,   3.5,   4.5,   5.5,   6.5,   7.5,   8.5,   9.5,\n",
       "       ...\n",
       "       565.5, 566.5, 567.5, 568.5, 569.5, 570.5, 571.5, 572.5, 573.5, 574.5],\n",
       "      dtype=&#x27;float64&#x27;, name=&#x27;x&#x27;, length=575))</pre></div></li></ul></div></li><li class='xr-section-item'><input id='section-78ef2d73-7088-4967-b960-a6f768a2986f' class='xr-section-summary-in' type='checkbox'  checked><label for='section-78ef2d73-7088-4967-b960-a6f768a2986f' class='xr-section-summary' >Attributes: <span>(1)</span></label><div class='xr-section-inline-details'></div><div class='xr-section-details'><dl class='xr-attrs'><dt><span>transform :</span></dt><dd>{&#x27;global&#x27;: Sequence \n",
       "    Scale (c, y, x)\n",
       "        [1.         3.86311352 3.50777513]\n",
       "    Translation (c, y, x)\n",
       "        [   0. 4548. 1154.]}</dd></dl></div></li></ul></div></div>"
      ],
      "text/plain": [
       "<xarray.DataArray 'image' (c: 1, y: 522, x: 575)> Size: 300kB\n",
       "dask.array<from-zarr, shape=(1, 522, 575), dtype=uint8, chunksize=(1, 522, 575), chunktype=numpy.ndarray>\n",
       "Coordinates:\n",
       "  * c        (c) int64 8B 0\n",
       "  * y        (y) float64 4kB 0.5 1.5 2.5 3.5 4.5 ... 518.5 519.5 520.5 521.5\n",
       "  * x        (x) float64 5kB 0.5 1.5 2.5 3.5 4.5 ... 571.5 572.5 573.5 574.5\n",
       "Attributes:\n",
       "    transform:  {'global': Sequence \\n    Scale (c, y, x)\\n        [1.       ..."
      ]
     },
     "execution_count": 24,
     "metadata": {},
     "output_type": "execute_result"
    }
   ],
   "source": [
    "sdata_merfish[\"rasterized\"]"
   ]
  },
  {
   "cell_type": "code",
   "execution_count": 25,
   "id": "03148706-d8a9-4652-9f3c-740de5b82d7c",
   "metadata": {},
   "outputs": [
    {
     "data": {
      "text/plain": [
       "AnnData object with n_obs × n_vars = 2389 × 268\n",
       "    obs: 'cell_id', 'region'\n",
       "    uns: 'spatialdata_attrs'"
      ]
     },
     "execution_count": 25,
     "metadata": {},
     "output_type": "execute_result"
    }
   ],
   "source": [
    "sdata_merfish[\"table\"]"
   ]
  },
  {
   "cell_type": "markdown",
   "id": "9584bcbc-e958-48f8-a09b-6a84dcc21119",
   "metadata": {},
   "source": [
    "### The types of the elements"
   ]
  },
  {
   "cell_type": "markdown",
   "id": "252a8787-c037-4a6c-8328-32058b9d02d5",
   "metadata": {},
   "source": [
    "The `spatialdata` library does not introduce specific types for storing the elements, and rather adopts standard classes from the imaging and geospatial Python community. \n",
    "\n",
    "In particular:\n",
    "- single-scale images are represented as [`xarray.DataArray`](https://docs.xarray.dev/en/stable/generated/xarray.DataArray.html) objects.\n",
    "- multi-scale images are represented as [`data_tree.DataTree`](https://xarray-datatree.readthedocs.io/en/latest/quick-overview.html#datatrees) objects.\n",
    "- shapes are represented as [`geopandas.GeoDataFrame`](https://geopandas.org/en/stable/docs/user_guide/data_structures.html) objects.\n",
    "- points are represented as a lazy version of a [`pandas.DataFrame`](https://pandas.pydata.org/docs/reference/api/pandas.DataFrame.html) object; i.e. as [`dask.DataFrame`](https://docs.dask.org/en/stable/dataframe.html) objects.\n",
    "- tables are represented as [`anndata.AnnData`](https://anndata.readthedocs.io/en/latest/) objects.\n",
    "\n",
    "We will give a quick overview of these classes here below; please refer to the respective documentation for a deeper introduction."
   ]
  },
  {
   "cell_type": "markdown",
   "id": "f0146a11-d30e-4e72-988b-e4c8610121a0",
   "metadata": {},
   "source": [
    "#### The `xarray.DataArray` class\n",
    "<div style=\"background-color: #FFE6E6; color: #FF0000;\">\n",
    "    <strong style=\"font-size: 24px;\">TODO</strong>\n",
    "</div>\n",
    "#### The `data_tree.DataTree` class\n",
    "<div style=\"background-color: #FFE6E6; color: #FF0000;\">\n",
    "    <strong style=\"font-size: 24px;\">TODO</strong>\n",
    "</div>\n",
    "#### The `geopandas.GeoDataFrame` class\n",
    "<div style=\"background-color: #FFE6E6; color: #FF0000;\">\n",
    "    <strong style=\"font-size: 24px;\">TODO</strong>\n",
    "</div>\n",
    "#### The `dask.DataFrame` class\n",
    "<div style=\"background-color: #FFE6E6; color: #FF0000;\">\n",
    "    <strong style=\"font-size: 24px;\">TODO</strong>\n",
    "</div>\n",
    "#### The `anndata.AnnData` class\n",
    "<div style=\"background-color: #FFE6E6; color: #FF0000;\">\n",
    "    <strong style=\"font-size: 24px;\">TODO</strong>\n",
    "</div>"
   ]
  },
  {
   "cell_type": "markdown",
   "id": "a74bd846-29c5-4981-8d21-62bd6ed75b16",
   "metadata": {},
   "source": [
    "### Lazy vs non-lazy objects"
   ]
  },
  {
   "cell_type": "markdown",
   "id": "352e4a94-c529-48b1-a27b-033a2e19663c",
   "metadata": {},
   "source": [
    "<div style=\"background-color: #FFE6E6; color: #FF0000;\">\n",
    "    <strong style=\"font-size: 24px;\">TODO</strong>\n",
    "</div>"
   ]
  },
  {
   "cell_type": "markdown",
   "id": "373564b7-1ccd-44aa-9569-662eaf3053d0",
   "metadata": {},
   "source": [
    "### Constructing a `SpatialData` object incrementally."
   ]
  },
  {
   "cell_type": "markdown",
   "id": "b1ab6b86-1cae-41de-adc3-bf7ef9e292c9",
   "metadata": {},
   "source": [
    "<div style=\"background-color: #FFE6E6; color: #FF0000;\">\n",
    "    <strong style=\"font-size: 24px;\">TODO</strong>\n",
    "</div>"
   ]
  }
 ],
 "metadata": {
  "kernelspec": {
   "display_name": "Python 3 (ipykernel)",
   "language": "python",
   "name": "python3"
  },
  "language_info": {
   "codemirror_mode": {
    "name": "ipython",
    "version": 3
   },
   "file_extension": ".py",
   "mimetype": "text/x-python",
   "name": "python",
   "nbconvert_exporter": "python",
   "pygments_lexer": "ipython3",
   "version": "3.12.2"
  }
 },
 "nbformat": 4,
 "nbformat_minor": 5
}
