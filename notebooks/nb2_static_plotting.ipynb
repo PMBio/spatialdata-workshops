{
  "cells": [
    {
      "cell_type": "markdown",
      "id": "ffc427fc-1e88-489e-9a7a-1d7c50ff651b",
      "metadata": {
        "id": "ffc427fc-1e88-489e-9a7a-1d7c50ff651b"
      },
      "source": [
        "# Static plotting for `spatialdata` "
      ]
    },
    {
      "cell_type": "markdown",
      "id": "3Eq1r-SBKg6_",
      "metadata": {
        "id": "3Eq1r-SBKg6_"
      },
      "source": [
        "Test"
      ]
    },
    {
      "cell_type": "code",
      "execution_count": null,
      "id": "ae985f46",
      "metadata": {},
      "outputs": [],
      "source": []
    },
    {
      "cell_type": "code",
      "execution_count": null,
      "id": "d7cb6d10",
      "metadata": {},
      "outputs": [],
      "source": []
    },
    {
      "cell_type": "code",
      "execution_count": null,
      "id": "198b00c5",
      "metadata": {},
      "outputs": [],
      "source": []
    }
  ],
  "metadata": {
    "colab": {
      "provenance": []
    },
    "kernelspec": {
      "display_name": "Python 3 (ipykernel)",
      "language": "python",
      "name": "python3"
    },
    "language_info": {
      "codemirror_mode": {
        "name": "ipython",
        "version": 3
      },
      "file_extension": ".py",
      "mimetype": "text/x-python",
      "name": "python",
      "nbconvert_exporter": "python",
      "pygments_lexer": "ipython3",
      "version": "3.10.14"
    }
  },
  "nbformat": 4,
  "nbformat_minor": 5
}
