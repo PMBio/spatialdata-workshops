{
  "cells": [
    {
      "cell_type": "markdown",
      "id": "ffc427fc-1e88-489e-9a7a-1d7c50ff651b",
      "metadata": {
        "id": "ffc427fc-1e88-489e-9a7a-1d7c50ff651b"
      },
      "source": [
        "# Basic analysis methods within the `spatialdata` ecosystem "
      ]
    },
    {
      "cell_type": "markdown",
      "id": "3Eq1r-SBKg6_",
      "metadata": {
        "id": "3Eq1r-SBKg6_"
      },
      "source": [
        "In this notebook, we will explore how to use `spatialdata-plot` to generate static plots of various different technologies. When we load the `spatialdata-plot` library, this adds the `.pl` accessor to every `SpatialData` object, which gives us access to the plotting functions. Their logic is loosly inspired by the ggplot-library in R, in which one can chain multiple function calls, gradually building the final figure."
      ]
    },
    {
      "cell_type": "code",
      "execution_count": 14,
      "id": "ae985f46",
      "metadata": {},
      "outputs": [],
      "source": [
        "import spatialdata as sd\n",
        "import spatialdata_plot\n",
        "import matplotlib.pyplot as plt  # for multi-panel plots later\n",
        "import squidpy as sq\n",
        "\n",
        "sdata_merfish = sd.read_zarr(\"../data/merfish.zarr\")"
      ]
    },
    {
      "cell_type": "markdown",
      "id": "05ac33cb",
      "metadata": {},
      "source": [
        "In particular, the library exposes the following funcitons:\n",
        "- [`Spatialdata.pl.render_images()`](https://spatialdata.scverse.org/projects/plot/en/latest/plotting.html#spatialdata_plot.pl.basic.PlotAccessor.render_images)\n",
        "- [`Spatialdata.pl.render_labels()`](https://spatialdata.scverse.org/projects/plot/en/latest/plotting.html#spatialdata_plot.pl.basic.PlotAccessor.render_labels)\n",
        "- [`Spatialdata.pl.render_points()`](https://spatialdata.scverse.org/projects/plot/en/latest/plotting.html#spatialdata_plot.pl.basic.PlotAccessor.render_points)\n",
        "- [`Spatialdata.pl.render_shapes()`](https://spatialdata.scverse.org/projects/plot/en/latest/plotting.html#spatialdata_plot.pl.basic.PlotAccessor.render_shapes)\n",
        "- [`Spatialdata.pl.show()`](https://spatialdata.scverse.org/projects/plot/en/latest/plotting.html#spatialdata_plot.pl.basic.PlotAccessor.show)\n",
        "\n",
        "We can chain the 4 `render_xxx` functions to gradually build up a figure, with a final call to `show` to then actually render out the function. In the following sections we will explore these functions further.\n",
        "\n",
        "\n",
        "## Overview\n",
        "- [Simple function calls](#simple-viz)\n",
        "- [Stacking function calls](#stacked-viz)\n",
        "- [Transformations](#transformations)\n",
        "- [Best practises](#best-practises)"
      ]
    },
    {
      "cell_type": "markdown",
      "id": "d7cb6d10",
      "metadata": {},
      "source": [
        "## Simple function calls <a id=\"simple-viz\"></a>\n",
        "Let's first focus on the [MERFISH](https://vizgen.com/technology/) data from the previous notebook. As we can see below, it contains slots for `Images`, `Points`, `Shapes`, and `Tables`."
      ]
    },
    {
      "cell_type": "code",
      "execution_count": 15,
      "id": "198b00c5",
      "metadata": {},
      "outputs": [
        {
          "data": {
            "text/plain": [
              "SpatialData object, with associated Zarr store: /Users/tim.treis/Documents/GitHub/spatialdata-workshops/data/merfish.zarr\n",
              "├── Images\n",
              "│     └── 'rasterized': DataArray[cyx] (1, 522, 575)\n",
              "├── Points\n",
              "│     └── 'single_molecule': DataFrame with shape: (<Delayed>, 3) (2D points)\n",
              "├── Shapes\n",
              "│     ├── 'anatomical': GeoDataFrame shape: (6, 1) (2D shapes)\n",
              "│     └── 'cells': GeoDataFrame shape: (2389, 2) (2D shapes)\n",
              "└── Tables\n",
              "      └── 'table': AnnData (2389, 268)\n",
              "with coordinate systems:\n",
              "    ▸ 'global', with elements:\n",
              "        rasterized (Images), single_molecule (Points), anatomical (Shapes), cells (Shapes)"
            ]
          },
          "execution_count": 15,
          "metadata": {},
          "output_type": "execute_result"
        }
      ],
      "source": [
        "sdata_merfish"
      ]
    },
    {
      "cell_type": "code",
      "execution_count": 25,
      "id": "02825c2a",
      "metadata": {},
      "outputs": [
        {
          "data": {
            "text/html": [
              "<div>\n",
              "<style scoped>\n",
              "    .dataframe tbody tr th:only-of-type {\n",
              "        vertical-align: middle;\n",
              "    }\n",
              "\n",
              "    .dataframe tbody tr th {\n",
              "        vertical-align: top;\n",
              "    }\n",
              "\n",
              "    .dataframe thead th {\n",
              "        text-align: right;\n",
              "    }\n",
              "</style>\n",
              "<table border=\"1\" class=\"dataframe\">\n",
              "  <thead>\n",
              "    <tr style=\"text-align: right;\">\n",
              "      <th></th>\n",
              "      <th>x</th>\n",
              "      <th>y</th>\n",
              "      <th>cell_type</th>\n",
              "    </tr>\n",
              "  </thead>\n",
              "  <tbody>\n",
              "    <tr>\n",
              "      <th>0</th>\n",
              "      <td>1278.683956</td>\n",
              "      <td>6020.642260</td>\n",
              "      <td>outside_VISp</td>\n",
              "    </tr>\n",
              "    <tr>\n",
              "      <th>1</th>\n",
              "      <td>1326.970330</td>\n",
              "      <td>6023.884788</td>\n",
              "      <td>outside_VISp</td>\n",
              "    </tr>\n",
              "    <tr>\n",
              "      <th>2</th>\n",
              "      <td>1292.026844</td>\n",
              "      <td>6059.337093</td>\n",
              "      <td>outside_VISp</td>\n",
              "    </tr>\n",
              "    <tr>\n",
              "      <th>3</th>\n",
              "      <td>1300.886241</td>\n",
              "      <td>6097.786264</td>\n",
              "      <td>outside_VISp</td>\n",
              "    </tr>\n",
              "    <tr>\n",
              "      <th>4</th>\n",
              "      <td>1232.410068</td>\n",
              "      <td>6102.884182</td>\n",
              "      <td>outside_VISp</td>\n",
              "    </tr>\n",
              "    <tr>\n",
              "      <th>...</th>\n",
              "      <td>...</td>\n",
              "      <td>...</td>\n",
              "      <td>...</td>\n",
              "    </tr>\n",
              "    <tr>\n",
              "      <th>3714637</th>\n",
              "      <td>3161.427603</td>\n",
              "      <td>5192.594981</td>\n",
              "      <td>outside_VISp</td>\n",
              "    </tr>\n",
              "    <tr>\n",
              "      <th>3714638</th>\n",
              "      <td>3099.698528</td>\n",
              "      <td>5221.596008</td>\n",
              "      <td>outside_VISp</td>\n",
              "    </tr>\n",
              "    <tr>\n",
              "      <th>3714639</th>\n",
              "      <td>3084.582240</td>\n",
              "      <td>5297.234605</td>\n",
              "      <td>outside_VISp</td>\n",
              "    </tr>\n",
              "    <tr>\n",
              "      <th>3714640</th>\n",
              "      <td>3054.192051</td>\n",
              "      <td>5342.142346</td>\n",
              "      <td>VISp_II/III</td>\n",
              "    </tr>\n",
              "    <tr>\n",
              "      <th>3714641</th>\n",
              "      <td>3058.963217</td>\n",
              "      <td>5348.150185</td>\n",
              "      <td>VISp_II/III</td>\n",
              "    </tr>\n",
              "  </tbody>\n",
              "</table>\n",
              "<p>3714642 rows × 3 columns</p>\n",
              "</div>"
            ],
            "text/plain": [
              "                   x            y     cell_type\n",
              "0        1278.683956  6020.642260  outside_VISp\n",
              "1        1326.970330  6023.884788  outside_VISp\n",
              "2        1292.026844  6059.337093  outside_VISp\n",
              "3        1300.886241  6097.786264  outside_VISp\n",
              "4        1232.410068  6102.884182  outside_VISp\n",
              "...              ...          ...           ...\n",
              "3714637  3161.427603  5192.594981  outside_VISp\n",
              "3714638  3099.698528  5221.596008  outside_VISp\n",
              "3714639  3084.582240  5297.234605  outside_VISp\n",
              "3714640  3054.192051  5342.142346   VISp_II/III\n",
              "3714641  3058.963217  5348.150185   VISp_II/III\n",
              "\n",
              "[3714642 rows x 3 columns]"
            ]
          },
          "execution_count": 25,
          "metadata": {},
          "output_type": "execute_result"
        }
      ],
      "source": [
        "sdata_merfish.points[\"single_molecule\"].compute()"
      ]
    },
    {
      "cell_type": "markdown",
      "id": "f8640fea",
      "metadata": {},
      "source": [
        "Let's first visualise the individual contained modalities separately. "
      ]
    },
    {
      "cell_type": "markdown",
      "id": "fc32cca0",
      "metadata": {},
      "source": [
        "## Transformations <a id=\"transformations\"></a>\n",
        "While this particular dataset is already (mostly) aligned correctly, we will use it to demonstrate the transformation logic of the `spatialdata` ecosystem. For the sake of this exercise, we will assume that the `Shapes` layer containing the anatomical regions needs to be adjusted to better match the \"VISp_II/III\" point annotation. We will use the `spatialdata` transformation logic to do so.\n",
        "\n",
        "Using the [`spatialdata.transformations.get_transformations()`](https://spatialdata.scverse.org/en/latest/generated/spatialdata.transformations.get_transformation.html) function, we can extract the original transformation to the coordinate system it maps to:"
      ]
    },
    {
      "cell_type": "code",
      "execution_count": 17,
      "id": "d6109627",
      "metadata": {},
      "outputs": [
        {
          "data": {
            "text/plain": [
              "AnnData object with n_obs × n_vars = 2389 × 268\n",
              "    obs: 'cell_id', 'region'\n",
              "    uns: 'spatialdata_attrs', 'spatial_neighbors'\n",
              "    obsm: 'spatial'\n",
              "    obsp: 'spatial_connectivities', 'spatial_distances'"
            ]
          },
          "execution_count": 17,
          "metadata": {},
          "output_type": "execute_result"
        }
      ],
      "source": [
        "sq.gr.spatial_neighbors(\n",
        "    sdata_merfish,\n",
        "    elements_to_coordinate_systems={\"cells\": \"global\"},\n",
        "    table_key=\"table\"\n",
        ")\n",
        "sdata_merfish.tables[\"table\"]"
      ]
    },
    {
      "cell_type": "code",
      "execution_count": 20,
      "id": "5301f764",
      "metadata": {},
      "outputs": [
        {
          "ename": "ValueError",
          "evalue": "Expected at least `2` clusters, found `1`.",
          "output_type": "error",
          "traceback": [
            "\u001b[0;31m---------------------------------------------------------------------------\u001b[0m",
            "\u001b[0;31mValueError\u001b[0m                                Traceback (most recent call last)",
            "Input \u001b[0;32mIn [20]\u001b[0m, in \u001b[0;36m<cell line: 1>\u001b[0;34m()\u001b[0m\n\u001b[0;32m----> 1\u001b[0m \u001b[43msq\u001b[49m\u001b[38;5;241;43m.\u001b[39;49m\u001b[43mgr\u001b[49m\u001b[38;5;241;43m.\u001b[39;49m\u001b[43mnhood_enrichment\u001b[49m\u001b[43m(\u001b[49m\u001b[43msdata_merfish\u001b[49m\u001b[43m,\u001b[49m\u001b[43m \u001b[49m\u001b[43mcluster_key\u001b[49m\u001b[38;5;241;43m=\u001b[39;49m\u001b[38;5;124;43m\"\u001b[39;49m\u001b[38;5;124;43mregion\u001b[39;49m\u001b[38;5;124;43m\"\u001b[39;49m\u001b[43m)\u001b[49m\n",
            "File \u001b[0;32m~/Documents/GitHub/squidpy/src/squidpy/gr/_nhood.py:180\u001b[0m, in \u001b[0;36mnhood_enrichment\u001b[0;34m(adata, cluster_key, library_key, connectivity_key, n_perms, numba_parallel, seed, copy, n_jobs, backend, show_progress_bar)\u001b[0m\n\u001b[1;32m    177\u001b[0m indices, indptr \u001b[38;5;241m=\u001b[39m (adj\u001b[38;5;241m.\u001b[39mindices\u001b[38;5;241m.\u001b[39mastype(ndt), adj\u001b[38;5;241m.\u001b[39mindptr\u001b[38;5;241m.\u001b[39mastype(ndt))\n\u001b[1;32m    178\u001b[0m n_cls \u001b[38;5;241m=\u001b[39m \u001b[38;5;28mlen\u001b[39m(clust_map)\n\u001b[0;32m--> 180\u001b[0m _test \u001b[38;5;241m=\u001b[39m \u001b[43m_create_function\u001b[49m\u001b[43m(\u001b[49m\u001b[43mn_cls\u001b[49m\u001b[43m,\u001b[49m\u001b[43m \u001b[49m\u001b[43mparallel\u001b[49m\u001b[38;5;241;43m=\u001b[39;49m\u001b[43mnumba_parallel\u001b[49m\u001b[43m)\u001b[49m\n\u001b[1;32m    181\u001b[0m count \u001b[38;5;241m=\u001b[39m _test(indices, indptr, int_clust)\n\u001b[1;32m    183\u001b[0m n_jobs \u001b[38;5;241m=\u001b[39m _get_n_cores(n_jobs)\n",
            "File \u001b[0;32m~/Documents/GitHub/squidpy/src/squidpy/gr/_nhood.py:84\u001b[0m, in \u001b[0;36m_create_function\u001b[0;34m(n_cls, parallel)\u001b[0m\n\u001b[1;32m     69\u001b[0m \u001b[38;5;250m\u001b[39m\u001b[38;5;124;03m\"\"\"\u001b[39;00m\n\u001b[1;32m     70\u001b[0m \u001b[38;5;124;03mCreate a :mod:`numba` function which counts the number of connections between clusters.\u001b[39;00m\n\u001b[1;32m     71\u001b[0m \n\u001b[0;32m   (...)\u001b[0m\n\u001b[1;32m     81\u001b[0m \u001b[38;5;124;03mThe aforementioned function.\u001b[39;00m\n\u001b[1;32m     82\u001b[0m \u001b[38;5;124;03m\"\"\"\u001b[39;00m\n\u001b[1;32m     83\u001b[0m \u001b[38;5;28;01mif\u001b[39;00m n_cls \u001b[38;5;241m<\u001b[39m\u001b[38;5;241m=\u001b[39m \u001b[38;5;241m1\u001b[39m:\n\u001b[0;32m---> 84\u001b[0m     \u001b[38;5;28;01mraise\u001b[39;00m \u001b[38;5;167;01mValueError\u001b[39;00m(\u001b[38;5;124mf\u001b[39m\u001b[38;5;124m\"\u001b[39m\u001b[38;5;124mExpected at least `2` clusters, found `\u001b[39m\u001b[38;5;132;01m{\u001b[39;00mn_cls\u001b[38;5;132;01m}\u001b[39;00m\u001b[38;5;124m`.\u001b[39m\u001b[38;5;124m\"\u001b[39m)\n\u001b[1;32m     86\u001b[0m rng \u001b[38;5;241m=\u001b[39m \u001b[38;5;28mrange\u001b[39m(n_cls)\n\u001b[1;32m     87\u001b[0m init \u001b[38;5;241m=\u001b[39m \u001b[38;5;124m\"\u001b[39m\u001b[38;5;124m\"\u001b[39m\u001b[38;5;241m.\u001b[39mjoin(\n\u001b[1;32m     88\u001b[0m     \u001b[38;5;124mf\u001b[39m\u001b[38;5;124m\"\"\"\u001b[39m\n\u001b[1;32m     89\u001b[0m \u001b[38;5;124mg\u001b[39m\u001b[38;5;132;01m{\u001b[39;00mi\u001b[38;5;132;01m}\u001b[39;00m\u001b[38;5;124m = np.zeros((\u001b[39m\u001b[38;5;132;01m{\u001b[39;00mn_cls\u001b[38;5;132;01m}\u001b[39;00m\u001b[38;5;124m,), dtype=ndt)\u001b[39m\u001b[38;5;124m\"\"\"\u001b[39m\n\u001b[1;32m     90\u001b[0m     \u001b[38;5;28;01mfor\u001b[39;00m i \u001b[38;5;129;01min\u001b[39;00m rng\n\u001b[1;32m     91\u001b[0m )\n",
            "\u001b[0;31mValueError\u001b[0m: Expected at least `2` clusters, found `1`."
          ]
        }
      ],
      "source": [
        "sq.gr.nhood_enrichment(sdata_merfish, cluster_key=\"region\")"
      ]
    }
  ],
  "metadata": {
    "colab": {
      "provenance": []
    },
    "kernelspec": {
      "display_name": "Python 3 (ipykernel)",
      "language": "python",
      "name": "python3"
    },
    "language_info": {
      "codemirror_mode": {
        "name": "ipython",
        "version": 3
      },
      "file_extension": ".py",
      "mimetype": "text/x-python",
      "name": "python",
      "nbconvert_exporter": "python",
      "pygments_lexer": "ipython3",
      "version": "3.10.12"
    }
  },
  "nbformat": 4,
  "nbformat_minor": 5
}
