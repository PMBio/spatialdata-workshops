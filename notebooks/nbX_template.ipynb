{
  "cells": [
    {
      "cell_type": "markdown",
      "id": "ffc427fc-1e88-489e-9a7a-1d7c50ff651b",
      "metadata": {
        "id": "ffc427fc-1e88-489e-9a7a-1d7c50ff651b"
      },
      "source": [
        "# Exploring `SpatialData` objects using `napari`"
      ]
    },
    {
      "cell_type": "markdown",
      "id": "3Eq1r-SBKg6_",
      "metadata": {
        "id": "3Eq1r-SBKg6_"
      },
      "source": [
        "tbd"
      ]
    },
    {
      "cell_type": "code",
      "execution_count": 1,
      "id": "45faae26",
      "metadata": {},
      "outputs": [
        {
          "data": {
            "text/html": [
              "\n",
              "                <script type=\"application/javascript\" id=\"jupyter_black\">\n",
              "                (function() {\n",
              "                    if (window.IPython === undefined) {\n",
              "                        return\n",
              "                    }\n",
              "                    var msg = \"WARNING: it looks like you might have loaded \" +\n",
              "                        \"jupyter_black in a non-lab notebook with \" +\n",
              "                        \"`is_lab=True`. Please double check, and if \" +\n",
              "                        \"loading with `%load_ext` please review the README!\"\n",
              "                    console.log(msg)\n",
              "                    alert(msg)\n",
              "                })()\n",
              "                </script>\n",
              "                "
            ],
            "text/plain": [
              "<IPython.core.display.HTML object>"
            ]
          },
          "metadata": {},
          "output_type": "display_data"
        }
      ],
      "source": [
        "%load_ext autoreload\n",
        "%autoreload 2\n",
        "%load_ext jupyter_black"
      ]
    },
    {
      "cell_type": "code",
      "execution_count": 2,
      "id": "ae985f46",
      "metadata": {},
      "outputs": [
        {
          "name": "stderr",
          "output_type": "stream",
          "text": [
            "/Users/tim.treis/anaconda3/envs/spatialdata/lib/python3.10/site-packages/dask/dataframe/_pyarrow_compat.py:21: UserWarning: You are using pyarrow version 13.0.0 which is known to be insecure. See https://www.cve.org/CVERecord?id=CVE-2023-47248 for further details. Please upgrade to pyarrow>=14.0.1 or install pyarrow-hotfix to patch your current version.\n",
            "  warnings.warn(\n",
            "/Users/tim.treis/anaconda3/envs/spatialdata/lib/python3.10/site-packages/requests/__init__.py:86: RequestsDependencyWarning: Unable to find acceptable character detection dependency (chardet or charset_normalizer).\n",
            "  warnings.warn(\n",
            "/Users/tim.treis/anaconda3/envs/spatialdata/lib/python3.10/site-packages/anndata/_core/aligned_df.py:67: ImplicitModificationWarning: Transforming to str index.\n",
            "  warnings.warn(\"Transforming to str index.\", ImplicitModificationWarning)\n"
          ]
        }
      ],
      "source": [
        "import spatialdata as sd\n",
        "import spatialdata_plot\n",
        "import matplotlib.pyplot as plt  # for multi-panel plots later\n",
        "import scanpy as sc\n",
        "import squidpy as sq\n",
        "\n",
        "sdata_xenium = sd.read_zarr(\"../data/xenium_2.0.0_io_subset.zarr\")"
      ]
    },
    {
      "cell_type": "code",
      "execution_count": null,
      "id": "2963c631",
      "metadata": {},
      "outputs": [],
      "source": []
    }
  ],
  "metadata": {
    "colab": {
      "provenance": []
    },
    "kernelspec": {
      "display_name": "Python 3 (ipykernel)",
      "language": "python",
      "name": "python3"
    },
    "language_info": {
      "codemirror_mode": {
        "name": "ipython",
        "version": 3
      },
      "file_extension": ".py",
      "mimetype": "text/x-python",
      "name": "python",
      "nbconvert_exporter": "python",
      "pygments_lexer": "ipython3",
      "version": "3.10.12"
    }
  },
  "nbformat": 4,
  "nbformat_minor": 5
}
